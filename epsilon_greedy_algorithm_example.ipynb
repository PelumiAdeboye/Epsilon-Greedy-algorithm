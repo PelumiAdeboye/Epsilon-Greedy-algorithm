{
 "cells": [
  {
   "cell_type": "code",
   "execution_count": 1,
   "id": "spare-athletics",
   "metadata": {},
   "outputs": [],
   "source": [
    "import numpy as np\n",
    "import random\n",
    "import matplotlib.pyplot as plt\n",
    "%matplotlib inline\n",
    "np.random.seed(5)"
   ]
  },
  {
   "cell_type": "code",
   "execution_count": 2,
   "id": "pressed-accountability",
   "metadata": {},
   "outputs": [],
   "source": [
    "n = 10\n",
    "arms = np.random.rand(n)\n",
    "eps = 0.1 #probability of exploration action"
   ]
  },
  {
   "cell_type": "code",
   "execution_count": 3,
   "id": "smoking-booking",
   "metadata": {},
   "outputs": [],
   "source": [
    "def reward(prob):\n",
    "    reward = 0\n",
    "    for i in range(10):\n",
    "        if random.random() < prob:\n",
    "            reward += 1\n",
    "    return reward"
   ]
  },
  {
   "cell_type": "code",
   "execution_count": 4,
   "id": "frank-chapel",
   "metadata": {},
   "outputs": [],
   "source": [
    "#initialize memory array; has 1 row defaulted to random action index\n",
    "av = np.array([np.random.randint(0,(n+1)), 0]).reshape(1,2) #av = action-value"
   ]
  },
  {
   "cell_type": "code",
   "execution_count": 5,
   "id": "authentic-swiss",
   "metadata": {},
   "outputs": [],
   "source": [
    "#greedy method to select best arm based on memory array\n",
    "def bestArm(a):\n",
    "    bestArm = 0 #default to 0\n",
    "    bestMean = 0\n",
    "    for u in a:\n",
    "        avg = np.mean(a[np.where(a[:,0] == u[0])][:, 1]) #calculate mean reward for each action\n",
    "        if bestMean < avg:\n",
    "            bestMean = avg\n",
    "            bestArm = u[0]\n",
    "    return bestArm"
   ]
  },
  {
   "cell_type": "code",
   "execution_count": 6,
   "id": "complicated-sarah",
   "metadata": {},
   "outputs": [
    {
     "data": {
      "image/png": "[encoded data removed]",
      "text/plain": [
       "<Figure size 432x288 with 1 Axes>"
      ]
     },
     "metadata": {
      "needs_background": "light"
     },
     "output_type": "display_data"
    }
   ],
   "source": [
    "plt.xlabel(\"Number of times played\")\n",
    "plt.ylabel(\"Average Reward\")\n",
    "for i in range(500):\n",
    "    if random.random() > eps: #greedy exploitation action\n",
    "        choice = bestArm(av)\n",
    "        thisAV = np.array([[choice, reward(arms[choice])]])\n",
    "        av = np.concatenate((av, thisAV), axis=0)\n",
    "    else: #exploration action\n",
    "        choice = np.where(arms == np.random.choice(arms))[0][0]\n",
    "        thisAV = np.array([[choice, reward(arms[choice])]]) #choice, reward\n",
    "        av = np.concatenate((av, thisAV), axis=0) #add to our action-value memory array\n",
    "    #calculate the mean reward\n",
    "    runningMean = np.mean(av[:,1])\n",
    "    plt.scatter(i, runningMean)"
   ]
  },
  {
   "cell_type": "code",
   "execution_count": null,
   "id": "portuguese-immunology",
   "metadata": {},
   "outputs": [],
   "source": []
  },
  {
   "cell_type": "code",
   "execution_count": null,
   "id": "sweet-world",
   "metadata": {},
   "outputs": [],
   "source": []
  }
 ],
 "metadata": {
  "kernelspec": {
   "display_name": "Python 3",
   "language": "python",
   "name": "python3"
  },
  "language_info": {
   "codemirror_mode": {
    "name": "ipython",
    "version": 3
   },
   "file_extension": ".py",
   "mimetype": "text/x-python",
   "name": "python",
   "nbconvert_exporter": "python",
   "pygments_lexer": "ipython3",
   "version": "3.8.5"
  }
 },
 "nbformat": 4,
 "nbformat_minor": 5
}
